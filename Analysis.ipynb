{
  "cells": [
    {
      "cell_type": "code",
      "execution_count": null,
      "id": "b8a0d5e6",
      "metadata": {
        "tags": [],
        "id": "b8a0d5e6"
      },
      "outputs": [],
      "source": [
        "import pandas as pd\n",
        "import numpy as np\n",
        "import matplotlib.pyplot as plt\n",
        "%matplotlib inline\n",
        "import seaborn as sns\n",
        "import datetime\n",
        "import os"
      ]
    },
    {
      "cell_type": "code",
      "execution_count": null,
      "id": "e5c141d7",
      "metadata": {
        "tags": [],
        "colab": {
          "base_uri": "https://localhost:8080/",
          "height": 206
        },
        "id": "e5c141d7",
        "outputId": "163ac077-daea-4e11-8ed2-4c099b8d2db4"
      },
      "outputs": [
        {
          "output_type": "execute_result",
          "data": {
            "text/plain": [
              "   year  month  day carrier tailNum  flNum origin dest  crsDepTime  \\\n",
              "0  2021      4   11      AS  N309AS    792    SEA  DTW        1010   \n",
              "1  2021      4   11      AS  N408AS   1011    ORD  SEA         700   \n",
              "2  2021      4   11      AS  N520AS   1012    SEA  MSP        1830   \n",
              "3  2021      4   11      AS  N472AS   1013    ORD  SEA        1405   \n",
              "4  2021      4   11      AS  N237AK   1014    SEA  ORD        1045   \n",
              "\n",
              "   actDepTime  depNextDay  crsArrTime  actArrTime  arrNextDay  cancelled  \\\n",
              "0      1013.0           0        1730      1736.0           0        0.0   \n",
              "1       703.0           0         940       916.0           0        0.0   \n",
              "2      1825.0           0        2345      2337.0           0        0.0   \n",
              "3      1404.0           0        1645      1627.0           0        0.0   \n",
              "4      1054.0           0        1650      1652.0           0        0.0   \n",
              "\n",
              "   diverted  \n",
              "0       0.0  \n",
              "1       0.0  \n",
              "2       0.0  \n",
              "3       0.0  \n",
              "4       0.0  "
            ],
            "text/html": [
              "\n",
              "  <div id=\"df-a5f3b866-9401-4c9c-805f-0722f2173db7\" class=\"colab-df-container\">\n",
              "    <div>\n",
              "<style scoped>\n",
              "    .dataframe tbody tr th:only-of-type {\n",
              "        vertical-align: middle;\n",
              "    }\n",
              "\n",
              "    .dataframe tbody tr th {\n",
              "        vertical-align: top;\n",
              "    }\n",
              "\n",
              "    .dataframe thead th {\n",
              "        text-align: right;\n",
              "    }\n",
              "</style>\n",
              "<table border=\"1\" class=\"dataframe\">\n",
              "  <thead>\n",
              "    <tr style=\"text-align: right;\">\n",
              "      <th></th>\n",
              "      <th>year</th>\n",
              "      <th>month</th>\n",
              "      <th>day</th>\n",
              "      <th>carrier</th>\n",
              "      <th>tailNum</th>\n",
              "      <th>flNum</th>\n",
              "      <th>origin</th>\n",
              "      <th>dest</th>\n",
              "      <th>crsDepTime</th>\n",
              "      <th>actDepTime</th>\n",
              "      <th>depNextDay</th>\n",
              "      <th>crsArrTime</th>\n",
              "      <th>actArrTime</th>\n",
              "      <th>arrNextDay</th>\n",
              "      <th>cancelled</th>\n",
              "      <th>diverted</th>\n",
              "    </tr>\n",
              "  </thead>\n",
              "  <tbody>\n",
              "    <tr>\n",
              "      <th>0</th>\n",
              "      <td>2021</td>\n",
              "      <td>4</td>\n",
              "      <td>11</td>\n",
              "      <td>AS</td>\n",
              "      <td>N309AS</td>\n",
              "      <td>792</td>\n",
              "      <td>SEA</td>\n",
              "      <td>DTW</td>\n",
              "      <td>1010</td>\n",
              "      <td>1013.0</td>\n",
              "      <td>0</td>\n",
              "      <td>1730</td>\n",
              "      <td>1736.0</td>\n",
              "      <td>0</td>\n",
              "      <td>0.0</td>\n",
              "      <td>0.0</td>\n",
              "    </tr>\n",
              "    <tr>\n",
              "      <th>1</th>\n",
              "      <td>2021</td>\n",
              "      <td>4</td>\n",
              "      <td>11</td>\n",
              "      <td>AS</td>\n",
              "      <td>N408AS</td>\n",
              "      <td>1011</td>\n",
              "      <td>ORD</td>\n",
              "      <td>SEA</td>\n",
              "      <td>700</td>\n",
              "      <td>703.0</td>\n",
              "      <td>0</td>\n",
              "      <td>940</td>\n",
              "      <td>916.0</td>\n",
              "      <td>0</td>\n",
              "      <td>0.0</td>\n",
              "      <td>0.0</td>\n",
              "    </tr>\n",
              "    <tr>\n",
              "      <th>2</th>\n",
              "      <td>2021</td>\n",
              "      <td>4</td>\n",
              "      <td>11</td>\n",
              "      <td>AS</td>\n",
              "      <td>N520AS</td>\n",
              "      <td>1012</td>\n",
              "      <td>SEA</td>\n",
              "      <td>MSP</td>\n",
              "      <td>1830</td>\n",
              "      <td>1825.0</td>\n",
              "      <td>0</td>\n",
              "      <td>2345</td>\n",
              "      <td>2337.0</td>\n",
              "      <td>0</td>\n",
              "      <td>0.0</td>\n",
              "      <td>0.0</td>\n",
              "    </tr>\n",
              "    <tr>\n",
              "      <th>3</th>\n",
              "      <td>2021</td>\n",
              "      <td>4</td>\n",
              "      <td>11</td>\n",
              "      <td>AS</td>\n",
              "      <td>N472AS</td>\n",
              "      <td>1013</td>\n",
              "      <td>ORD</td>\n",
              "      <td>SEA</td>\n",
              "      <td>1405</td>\n",
              "      <td>1404.0</td>\n",
              "      <td>0</td>\n",
              "      <td>1645</td>\n",
              "      <td>1627.0</td>\n",
              "      <td>0</td>\n",
              "      <td>0.0</td>\n",
              "      <td>0.0</td>\n",
              "    </tr>\n",
              "    <tr>\n",
              "      <th>4</th>\n",
              "      <td>2021</td>\n",
              "      <td>4</td>\n",
              "      <td>11</td>\n",
              "      <td>AS</td>\n",
              "      <td>N237AK</td>\n",
              "      <td>1014</td>\n",
              "      <td>SEA</td>\n",
              "      <td>ORD</td>\n",
              "      <td>1045</td>\n",
              "      <td>1054.0</td>\n",
              "      <td>0</td>\n",
              "      <td>1650</td>\n",
              "      <td>1652.0</td>\n",
              "      <td>0</td>\n",
              "      <td>0.0</td>\n",
              "      <td>0.0</td>\n",
              "    </tr>\n",
              "  </tbody>\n",
              "</table>\n",
              "</div>\n",
              "    <div class=\"colab-df-buttons\">\n",
              "\n",
              "  <div class=\"colab-df-container\">\n",
              "    <button class=\"colab-df-convert\" onclick=\"convertToInteractive('df-a5f3b866-9401-4c9c-805f-0722f2173db7')\"\n",
              "            title=\"Convert this dataframe to an interactive table.\"\n",
              "            style=\"display:none;\">\n",
              "\n",
              "  <svg xmlns=\"http://www.w3.org/2000/svg\" height=\"24px\" viewBox=\"0 -960 960 960\">\n",
              "    <path d=\"M120-120v-720h720v720H120Zm60-500h600v-160H180v160Zm220 220h160v-160H400v160Zm0 220h160v-160H400v160ZM180-400h160v-160H180v160Zm440 0h160v-160H620v160ZM180-180h160v-160H180v160Zm440 0h160v-160H620v160Z\"/>\n",
              "  </svg>\n",
              "    </button>\n",
              "\n",
              "  <style>\n",
              "    .colab-df-container {\n",
              "      display:flex;\n",
              "      gap: 12px;\n",
              "    }\n",
              "\n",
              "    .colab-df-convert {\n",
              "      background-color: #E8F0FE;\n",
              "      border: none;\n",
              "      border-radius: 50%;\n",
              "      cursor: pointer;\n",
              "      display: none;\n",
              "      fill: #1967D2;\n",
              "      height: 32px;\n",
              "      padding: 0 0 0 0;\n",
              "      width: 32px;\n",
              "    }\n",
              "\n",
              "    .colab-df-convert:hover {\n",
              "      background-color: #E2EBFA;\n",
              "      box-shadow: 0px 1px 2px rgba(60, 64, 67, 0.3), 0px 1px 3px 1px rgba(60, 64, 67, 0.15);\n",
              "      fill: #174EA6;\n",
              "    }\n",
              "\n",
              "    .colab-df-buttons div {\n",
              "      margin-bottom: 4px;\n",
              "    }\n",
              "\n",
              "    [theme=dark] .colab-df-convert {\n",
              "      background-color: #3B4455;\n",
              "      fill: #D2E3FC;\n",
              "    }\n",
              "\n",
              "    [theme=dark] .colab-df-convert:hover {\n",
              "      background-color: #434B5C;\n",
              "      box-shadow: 0px 1px 3px 1px rgba(0, 0, 0, 0.15);\n",
              "      filter: drop-shadow(0px 1px 2px rgba(0, 0, 0, 0.3));\n",
              "      fill: #FFFFFF;\n",
              "    }\n",
              "  </style>\n",
              "\n",
              "    <script>\n",
              "      const buttonEl =\n",
              "        document.querySelector('#df-a5f3b866-9401-4c9c-805f-0722f2173db7 button.colab-df-convert');\n",
              "      buttonEl.style.display =\n",
              "        google.colab.kernel.accessAllowed ? 'block' : 'none';\n",
              "\n",
              "      async function convertToInteractive(key) {\n",
              "        const element = document.querySelector('#df-a5f3b866-9401-4c9c-805f-0722f2173db7');\n",
              "        const dataTable =\n",
              "          await google.colab.kernel.invokeFunction('convertToInteractive',\n",
              "                                                    [key], {});\n",
              "        if (!dataTable) return;\n",
              "\n",
              "        const docLinkHtml = 'Like what you see? Visit the ' +\n",
              "          '<a target=\"_blank\" href=https://colab.research.google.com/notebooks/data_table.ipynb>data table notebook</a>'\n",
              "          + ' to learn more about interactive tables.';\n",
              "        element.innerHTML = '';\n",
              "        dataTable['output_type'] = 'display_data';\n",
              "        await google.colab.output.renderOutput(dataTable, element);\n",
              "        const docLink = document.createElement('div');\n",
              "        docLink.innerHTML = docLinkHtml;\n",
              "        element.appendChild(docLink);\n",
              "      }\n",
              "    </script>\n",
              "  </div>\n",
              "\n",
              "\n",
              "<div id=\"df-dd3aedcc-272a-4393-8e5d-cb6ba352bb2e\">\n",
              "  <button class=\"colab-df-quickchart\" onclick=\"quickchart('df-dd3aedcc-272a-4393-8e5d-cb6ba352bb2e')\"\n",
              "            title=\"Suggest charts\"\n",
              "            style=\"display:none;\">\n",
              "\n",
              "<svg xmlns=\"http://www.w3.org/2000/svg\" height=\"24px\"viewBox=\"0 0 24 24\"\n",
              "     width=\"24px\">\n",
              "    <g>\n",
              "        <path d=\"M19 3H5c-1.1 0-2 .9-2 2v14c0 1.1.9 2 2 2h14c1.1 0 2-.9 2-2V5c0-1.1-.9-2-2-2zM9 17H7v-7h2v7zm4 0h-2V7h2v10zm4 0h-2v-4h2v4z\"/>\n",
              "    </g>\n",
              "</svg>\n",
              "  </button>\n",
              "\n",
              "<style>\n",
              "  .colab-df-quickchart {\n",
              "      --bg-color: #E8F0FE;\n",
              "      --fill-color: #1967D2;\n",
              "      --hover-bg-color: #E2EBFA;\n",
              "      --hover-fill-color: #174EA6;\n",
              "      --disabled-fill-color: #AAA;\n",
              "      --disabled-bg-color: #DDD;\n",
              "  }\n",
              "\n",
              "  [theme=dark] .colab-df-quickchart {\n",
              "      --bg-color: #3B4455;\n",
              "      --fill-color: #D2E3FC;\n",
              "      --hover-bg-color: #434B5C;\n",
              "      --hover-fill-color: #FFFFFF;\n",
              "      --disabled-bg-color: #3B4455;\n",
              "      --disabled-fill-color: #666;\n",
              "  }\n",
              "\n",
              "  .colab-df-quickchart {\n",
              "    background-color: var(--bg-color);\n",
              "    border: none;\n",
              "    border-radius: 50%;\n",
              "    cursor: pointer;\n",
              "    display: none;\n",
              "    fill: var(--fill-color);\n",
              "    height: 32px;\n",
              "    padding: 0;\n",
              "    width: 32px;\n",
              "  }\n",
              "\n",
              "  .colab-df-quickchart:hover {\n",
              "    background-color: var(--hover-bg-color);\n",
              "    box-shadow: 0 1px 2px rgba(60, 64, 67, 0.3), 0 1px 3px 1px rgba(60, 64, 67, 0.15);\n",
              "    fill: var(--button-hover-fill-color);\n",
              "  }\n",
              "\n",
              "  .colab-df-quickchart-complete:disabled,\n",
              "  .colab-df-quickchart-complete:disabled:hover {\n",
              "    background-color: var(--disabled-bg-color);\n",
              "    fill: var(--disabled-fill-color);\n",
              "    box-shadow: none;\n",
              "  }\n",
              "\n",
              "  .colab-df-spinner {\n",
              "    border: 2px solid var(--fill-color);\n",
              "    border-color: transparent;\n",
              "    border-bottom-color: var(--fill-color);\n",
              "    animation:\n",
              "      spin 1s steps(1) infinite;\n",
              "  }\n",
              "\n",
              "  @keyframes spin {\n",
              "    0% {\n",
              "      border-color: transparent;\n",
              "      border-bottom-color: var(--fill-color);\n",
              "      border-left-color: var(--fill-color);\n",
              "    }\n",
              "    20% {\n",
              "      border-color: transparent;\n",
              "      border-left-color: var(--fill-color);\n",
              "      border-top-color: var(--fill-color);\n",
              "    }\n",
              "    30% {\n",
              "      border-color: transparent;\n",
              "      border-left-color: var(--fill-color);\n",
              "      border-top-color: var(--fill-color);\n",
              "      border-right-color: var(--fill-color);\n",
              "    }\n",
              "    40% {\n",
              "      border-color: transparent;\n",
              "      border-right-color: var(--fill-color);\n",
              "      border-top-color: var(--fill-color);\n",
              "    }\n",
              "    60% {\n",
              "      border-color: transparent;\n",
              "      border-right-color: var(--fill-color);\n",
              "    }\n",
              "    80% {\n",
              "      border-color: transparent;\n",
              "      border-right-color: var(--fill-color);\n",
              "      border-bottom-color: var(--fill-color);\n",
              "    }\n",
              "    90% {\n",
              "      border-color: transparent;\n",
              "      border-bottom-color: var(--fill-color);\n",
              "    }\n",
              "  }\n",
              "</style>\n",
              "\n",
              "  <script>\n",
              "    async function quickchart(key) {\n",
              "      const quickchartButtonEl =\n",
              "        document.querySelector('#' + key + ' button');\n",
              "      quickchartButtonEl.disabled = true;  // To prevent multiple clicks.\n",
              "      quickchartButtonEl.classList.add('colab-df-spinner');\n",
              "      try {\n",
              "        const charts = await google.colab.kernel.invokeFunction(\n",
              "            'suggestCharts', [key], {});\n",
              "      } catch (error) {\n",
              "        console.error('Error during call to suggestCharts:', error);\n",
              "      }\n",
              "      quickchartButtonEl.classList.remove('colab-df-spinner');\n",
              "      quickchartButtonEl.classList.add('colab-df-quickchart-complete');\n",
              "    }\n",
              "    (() => {\n",
              "      let quickchartButtonEl =\n",
              "        document.querySelector('#df-dd3aedcc-272a-4393-8e5d-cb6ba352bb2e button');\n",
              "      quickchartButtonEl.style.display =\n",
              "        google.colab.kernel.accessAllowed ? 'block' : 'none';\n",
              "    })();\n",
              "  </script>\n",
              "</div>\n",
              "\n",
              "    </div>\n",
              "  </div>\n"
            ],
            "application/vnd.google.colaboratory.intrinsic+json": {
              "type": "dataframe",
              "variable_name": "flights"
            }
          },
          "metadata": {},
          "execution_count": 137
        }
      ],
      "source": [
        "# Read in data, set DataFrame columns to names above\n",
        "columns = ['year', 'month', 'day', 'carrier', 'tailNum', 'flNum', 'origin', 'dest', 'crsDepTime',\n",
        "                   'actDepTime', 'depNextDay', 'crsArrTime', 'actArrTime', 'arrNextDay', 'cancelled', 'diverted']#setting column names\n",
        "flights = pd.read_csv(\"/content/flight-data (2).csv\",names =columns)\n",
        "flights.head()#displaying first 5 rows"
      ]
    },
    {
      "cell_type": "code",
      "execution_count": null,
      "id": "4a1eee31",
      "metadata": {
        "colab": {
          "base_uri": "https://localhost:8080/"
        },
        "id": "4a1eee31",
        "outputId": "c586aee8-2e92-481c-db75-a3156a849279"
      },
      "outputs": [
        {
          "output_type": "stream",
          "name": "stdout",
          "text": [
            "Flight data:  5068847 rows,  16 columns\n"
          ]
        }
      ],
      "source": [
        "print(\"Flight data: %8d rows,  %d columns\" % (flights.shape[0], flights.shape[1]))"
      ]
    },
    {
      "cell_type": "code",
      "execution_count": null,
      "id": "fb46dfe0",
      "metadata": {
        "colab": {
          "base_uri": "https://localhost:8080/"
        },
        "id": "fb46dfe0",
        "outputId": "bb237add-af44-44c2-b700-3a3d3cad005d"
      },
      "outputs": [
        {
          "output_type": "stream",
          "name": "stdout",
          "text": [
            "DTW flights:    648915 arrivals,   648900 departures\n"
          ]
        }
      ],
      "source": [
        "numArrDTW = flights[flights['dest'] == 'DTW'].shape[0] # caluculating no of flights arrivals in DTW\n",
        "numDepDTW = flights[flights['origin'] == 'DTW'].shape[0] # calculating no of flights departuring in DTW\n",
        "print(\"DTW flights:   %7d arrivals,  %7d departures\" % (numArrDTW, numDepDTW))"
      ]
    },
    {
      "cell_type": "code",
      "execution_count": null,
      "id": "35e54134",
      "metadata": {
        "colab": {
          "base_uri": "https://localhost:8080/"
        },
        "id": "35e54134",
        "outputId": "9d70186b-27cd-4b7d-8c80-7949c734501d"
      },
      "outputs": [
        {
          "output_type": "stream",
          "name": "stdout",
          "text": [
            "MSP flights:    644458 arrivals,   644514 departures\n"
          ]
        }
      ],
      "source": [
        "numArrMSP =flights[flights['dest'] == 'MSP'].shape[0]# finding no of flights arrivals in MSP\n",
        "numDepMSP = flights[flights['origin'] == 'MSP'].shape[0]# finding no of flights departing in MSp\n",
        "print(\"MSP flights:   %7d arrivals,  %7d departures\" % (numArrMSP, numDepMSP))"
      ]
    },
    {
      "cell_type": "code",
      "execution_count": null,
      "id": "36364439",
      "metadata": {
        "colab": {
          "base_uri": "https://localhost:8080/"
        },
        "id": "36364439",
        "outputId": "86c500b3-b26b-46c5-da99-7e75d4da751f"
      },
      "outputs": [
        {
          "output_type": "stream",
          "name": "stdout",
          "text": [
            "ORD flights:   1311813 arrivals,  1312017 departures\n"
          ]
        }
      ],
      "source": [
        "numArrORD = flights[flights['dest'] == 'ORD'].shape[0]# finding no of flights arrivals in ORD\n",
        "numDepORD = flights[flights['origin'] == 'ORD'].shape[0]## finding no of flights departed in ORD\n",
        "print(\"ORD flights:   %7d arrivals,  %7d departures\" % (numArrORD, numDepORD))"
      ]
    },
    {
      "cell_type": "code",
      "execution_count": null,
      "id": "95d18ba9",
      "metadata": {
        "colab": {
          "base_uri": "https://localhost:8080/"
        },
        "id": "95d18ba9",
        "outputId": "8d3c0a51-a1fe-40d6-c979-9cbc56387325"
      },
      "outputs": [
        {
          "output_type": "stream",
          "name": "stdout",
          "text": [
            "DTW cancelled flights:    9325 arrs,    9264 deps\n",
            "\tdiverted flights:     739 arrs,    1459 deps\n"
          ]
        }
      ],
      "source": [
        "# For DTW\n",
        "numCanArrDTW = flights[(flights['dest'] == 'DTW') & (flights['cancelled'] == 1)].shape[0]\n",
        "numCanDepDTW = flights[(flights['origin'] == 'DTW') & (flights['cancelled'] == 1)].shape[0]\n",
        "numDivArrDTW = flights[(flights['dest'] == 'DTW') & (flights['diverted'] == 1)].shape[0]\n",
        "numDivDepDTW = flights[(flights['origin'] == 'DTW') & (flights['diverted'] == 1)].shape[0]\n",
        "print(\"DTW cancelled flights: %7d arrs, %7d deps\\n\\tdiverted flights: %7d arrs, %7d deps\"\n",
        "      % (numCanArrDTW, numCanDepDTW, numDivArrDTW, numDivDepDTW))"
      ]
    },
    {
      "cell_type": "code",
      "execution_count": null,
      "id": "f66333eb",
      "metadata": {
        "colab": {
          "base_uri": "https://localhost:8080/"
        },
        "id": "f66333eb",
        "outputId": "b4d51600-027f-4601-8bd6-088c73ff944e"
      },
      "outputs": [
        {
          "output_type": "stream",
          "name": "stdout",
          "text": [
            "MSP cancelled flights:    9337 arrs,    9298 deps\n",
            "\tdiverted flights:    1019 arrs,    1555 deps\n"
          ]
        }
      ],
      "source": [
        "# For MSP\n",
        "numCanArrMSP = flights[(flights['dest'] == 'MSP') & (flights['cancelled'] == 1)].shape[0]\n",
        "numCanDepMSP = flights[(flights['origin'] == 'MSP') & (flights['cancelled'] == 1)].shape[0]\n",
        "numDivArrMSP = flights[(flights['dest'] == 'MSP') & (flights['diverted'] == 1)].shape[0]\n",
        "numDivDepMSP = flights[(flights['origin'] == 'MSP') & (flights['diverted'] == 1)].shape[0]\n",
        "\n",
        "print(\"MSP cancelled flights: %7d arrs, %7d deps\\n\\tdiverted flights: %7d arrs, %7d deps\"\n",
        "      % (numCanArrMSP, numCanDepMSP, numDivArrMSP, numDivDepMSP))"
      ]
    },
    {
      "cell_type": "code",
      "execution_count": null,
      "id": "197faab8",
      "metadata": {
        "colab": {
          "base_uri": "https://localhost:8080/"
        },
        "id": "197faab8",
        "outputId": "781d328d-9590-47f4-c52a-cc7e0dd0747e"
      },
      "outputs": [
        {
          "output_type": "stream",
          "name": "stdout",
          "text": [
            "ORD cancelled flights:   36875 arrs,   35638 deps\n",
            "\tdiverted flights:    3258 arrs,    3307 deps\n"
          ]
        }
      ],
      "source": [
        "# For ORD\n",
        "numCanArrORD = flights[(flights['dest'] == 'ORD') & (flights['cancelled'] == 1)].shape[0]\n",
        "numCanDepORD = flights[(flights['origin'] == 'ORD') & (flights['cancelled'] == 1)].shape[0]\n",
        "numDivArrORD = flights[(flights['dest'] == 'ORD') & (flights['diverted'] == 1)].shape[0]\n",
        "numDivDepORD = flights[(flights['origin'] == 'ORD') & (flights['diverted'] == 1)].shape[0]\n",
        "\n",
        "print(\"ORD cancelled flights: %7d arrs, %7d deps\\n\\tdiverted flights: %7d arrs, %7d deps\"\n",
        "      % (numCanArrORD, numCanDepORD, numDivArrORD, numDivDepORD))"
      ]
    },
    {
      "cell_type": "markdown",
      "id": "6bc6b405",
      "metadata": {
        "id": "6bc6b405"
      },
      "source": [
        "The absolute number of cancelled and diverted flights can be somewhat misleading because O'hare has many more flights in total.  \n",
        "\n",
        "So, let's look at these values normalized, that is, the percentage of total arriving or departing flights that are cancelled or diverted."
      ]
    },
    {
      "cell_type": "code",
      "execution_count": null,
      "id": "ac5e3e45",
      "metadata": {
        "colab": {
          "base_uri": "https://localhost:8080/",
          "height": 143
        },
        "id": "ac5e3e45",
        "outputId": "7607679f-d1d2-49e7-c4cb-f110ecdf4de5"
      },
      "outputs": [
        {
          "output_type": "execute_result",
          "data": {
            "text/plain": [
              "     PercArrCan  PercDepCan  PercArrDiv  PercDepDiv\n",
              "DTW    1.437014    1.427647    0.113882    0.224842\n",
              "MSP    1.448814    1.442637    0.158117    0.241267\n",
              "ORD    2.810995    2.716276    0.248359    0.252055"
            ],
            "text/html": [
              "\n",
              "  <div id=\"df-98449322-75f3-40b0-822a-0be348c6f94d\" class=\"colab-df-container\">\n",
              "    <div>\n",
              "<style scoped>\n",
              "    .dataframe tbody tr th:only-of-type {\n",
              "        vertical-align: middle;\n",
              "    }\n",
              "\n",
              "    .dataframe tbody tr th {\n",
              "        vertical-align: top;\n",
              "    }\n",
              "\n",
              "    .dataframe thead th {\n",
              "        text-align: right;\n",
              "    }\n",
              "</style>\n",
              "<table border=\"1\" class=\"dataframe\">\n",
              "  <thead>\n",
              "    <tr style=\"text-align: right;\">\n",
              "      <th></th>\n",
              "      <th>PercArrCan</th>\n",
              "      <th>PercDepCan</th>\n",
              "      <th>PercArrDiv</th>\n",
              "      <th>PercDepDiv</th>\n",
              "    </tr>\n",
              "  </thead>\n",
              "  <tbody>\n",
              "    <tr>\n",
              "      <th>DTW</th>\n",
              "      <td>1.437014</td>\n",
              "      <td>1.427647</td>\n",
              "      <td>0.113882</td>\n",
              "      <td>0.224842</td>\n",
              "    </tr>\n",
              "    <tr>\n",
              "      <th>MSP</th>\n",
              "      <td>1.448814</td>\n",
              "      <td>1.442637</td>\n",
              "      <td>0.158117</td>\n",
              "      <td>0.241267</td>\n",
              "    </tr>\n",
              "    <tr>\n",
              "      <th>ORD</th>\n",
              "      <td>2.810995</td>\n",
              "      <td>2.716276</td>\n",
              "      <td>0.248359</td>\n",
              "      <td>0.252055</td>\n",
              "    </tr>\n",
              "  </tbody>\n",
              "</table>\n",
              "</div>\n",
              "    <div class=\"colab-df-buttons\">\n",
              "\n",
              "  <div class=\"colab-df-container\">\n",
              "    <button class=\"colab-df-convert\" onclick=\"convertToInteractive('df-98449322-75f3-40b0-822a-0be348c6f94d')\"\n",
              "            title=\"Convert this dataframe to an interactive table.\"\n",
              "            style=\"display:none;\">\n",
              "\n",
              "  <svg xmlns=\"http://www.w3.org/2000/svg\" height=\"24px\" viewBox=\"0 -960 960 960\">\n",
              "    <path d=\"M120-120v-720h720v720H120Zm60-500h600v-160H180v160Zm220 220h160v-160H400v160Zm0 220h160v-160H400v160ZM180-400h160v-160H180v160Zm440 0h160v-160H620v160ZM180-180h160v-160H180v160Zm440 0h160v-160H620v160Z\"/>\n",
              "  </svg>\n",
              "    </button>\n",
              "\n",
              "  <style>\n",
              "    .colab-df-container {\n",
              "      display:flex;\n",
              "      gap: 12px;\n",
              "    }\n",
              "\n",
              "    .colab-df-convert {\n",
              "      background-color: #E8F0FE;\n",
              "      border: none;\n",
              "      border-radius: 50%;\n",
              "      cursor: pointer;\n",
              "      display: none;\n",
              "      fill: #1967D2;\n",
              "      height: 32px;\n",
              "      padding: 0 0 0 0;\n",
              "      width: 32px;\n",
              "    }\n",
              "\n",
              "    .colab-df-convert:hover {\n",
              "      background-color: #E2EBFA;\n",
              "      box-shadow: 0px 1px 2px rgba(60, 64, 67, 0.3), 0px 1px 3px 1px rgba(60, 64, 67, 0.15);\n",
              "      fill: #174EA6;\n",
              "    }\n",
              "\n",
              "    .colab-df-buttons div {\n",
              "      margin-bottom: 4px;\n",
              "    }\n",
              "\n",
              "    [theme=dark] .colab-df-convert {\n",
              "      background-color: #3B4455;\n",
              "      fill: #D2E3FC;\n",
              "    }\n",
              "\n",
              "    [theme=dark] .colab-df-convert:hover {\n",
              "      background-color: #434B5C;\n",
              "      box-shadow: 0px 1px 3px 1px rgba(0, 0, 0, 0.15);\n",
              "      filter: drop-shadow(0px 1px 2px rgba(0, 0, 0, 0.3));\n",
              "      fill: #FFFFFF;\n",
              "    }\n",
              "  </style>\n",
              "\n",
              "    <script>\n",
              "      const buttonEl =\n",
              "        document.querySelector('#df-98449322-75f3-40b0-822a-0be348c6f94d button.colab-df-convert');\n",
              "      buttonEl.style.display =\n",
              "        google.colab.kernel.accessAllowed ? 'block' : 'none';\n",
              "\n",
              "      async function convertToInteractive(key) {\n",
              "        const element = document.querySelector('#df-98449322-75f3-40b0-822a-0be348c6f94d');\n",
              "        const dataTable =\n",
              "          await google.colab.kernel.invokeFunction('convertToInteractive',\n",
              "                                                    [key], {});\n",
              "        if (!dataTable) return;\n",
              "\n",
              "        const docLinkHtml = 'Like what you see? Visit the ' +\n",
              "          '<a target=\"_blank\" href=https://colab.research.google.com/notebooks/data_table.ipynb>data table notebook</a>'\n",
              "          + ' to learn more about interactive tables.';\n",
              "        element.innerHTML = '';\n",
              "        dataTable['output_type'] = 'display_data';\n",
              "        await google.colab.output.renderOutput(dataTable, element);\n",
              "        const docLink = document.createElement('div');\n",
              "        docLink.innerHTML = docLinkHtml;\n",
              "        element.appendChild(docLink);\n",
              "      }\n",
              "    </script>\n",
              "  </div>\n",
              "\n",
              "\n",
              "<div id=\"df-f6fc38d3-27f6-4b98-ac38-2606eec6356e\">\n",
              "  <button class=\"colab-df-quickchart\" onclick=\"quickchart('df-f6fc38d3-27f6-4b98-ac38-2606eec6356e')\"\n",
              "            title=\"Suggest charts\"\n",
              "            style=\"display:none;\">\n",
              "\n",
              "<svg xmlns=\"http://www.w3.org/2000/svg\" height=\"24px\"viewBox=\"0 0 24 24\"\n",
              "     width=\"24px\">\n",
              "    <g>\n",
              "        <path d=\"M19 3H5c-1.1 0-2 .9-2 2v14c0 1.1.9 2 2 2h14c1.1 0 2-.9 2-2V5c0-1.1-.9-2-2-2zM9 17H7v-7h2v7zm4 0h-2V7h2v10zm4 0h-2v-4h2v4z\"/>\n",
              "    </g>\n",
              "</svg>\n",
              "  </button>\n",
              "\n",
              "<style>\n",
              "  .colab-df-quickchart {\n",
              "      --bg-color: #E8F0FE;\n",
              "      --fill-color: #1967D2;\n",
              "      --hover-bg-color: #E2EBFA;\n",
              "      --hover-fill-color: #174EA6;\n",
              "      --disabled-fill-color: #AAA;\n",
              "      --disabled-bg-color: #DDD;\n",
              "  }\n",
              "\n",
              "  [theme=dark] .colab-df-quickchart {\n",
              "      --bg-color: #3B4455;\n",
              "      --fill-color: #D2E3FC;\n",
              "      --hover-bg-color: #434B5C;\n",
              "      --hover-fill-color: #FFFFFF;\n",
              "      --disabled-bg-color: #3B4455;\n",
              "      --disabled-fill-color: #666;\n",
              "  }\n",
              "\n",
              "  .colab-df-quickchart {\n",
              "    background-color: var(--bg-color);\n",
              "    border: none;\n",
              "    border-radius: 50%;\n",
              "    cursor: pointer;\n",
              "    display: none;\n",
              "    fill: var(--fill-color);\n",
              "    height: 32px;\n",
              "    padding: 0;\n",
              "    width: 32px;\n",
              "  }\n",
              "\n",
              "  .colab-df-quickchart:hover {\n",
              "    background-color: var(--hover-bg-color);\n",
              "    box-shadow: 0 1px 2px rgba(60, 64, 67, 0.3), 0 1px 3px 1px rgba(60, 64, 67, 0.15);\n",
              "    fill: var(--button-hover-fill-color);\n",
              "  }\n",
              "\n",
              "  .colab-df-quickchart-complete:disabled,\n",
              "  .colab-df-quickchart-complete:disabled:hover {\n",
              "    background-color: var(--disabled-bg-color);\n",
              "    fill: var(--disabled-fill-color);\n",
              "    box-shadow: none;\n",
              "  }\n",
              "\n",
              "  .colab-df-spinner {\n",
              "    border: 2px solid var(--fill-color);\n",
              "    border-color: transparent;\n",
              "    border-bottom-color: var(--fill-color);\n",
              "    animation:\n",
              "      spin 1s steps(1) infinite;\n",
              "  }\n",
              "\n",
              "  @keyframes spin {\n",
              "    0% {\n",
              "      border-color: transparent;\n",
              "      border-bottom-color: var(--fill-color);\n",
              "      border-left-color: var(--fill-color);\n",
              "    }\n",
              "    20% {\n",
              "      border-color: transparent;\n",
              "      border-left-color: var(--fill-color);\n",
              "      border-top-color: var(--fill-color);\n",
              "    }\n",
              "    30% {\n",
              "      border-color: transparent;\n",
              "      border-left-color: var(--fill-color);\n",
              "      border-top-color: var(--fill-color);\n",
              "      border-right-color: var(--fill-color);\n",
              "    }\n",
              "    40% {\n",
              "      border-color: transparent;\n",
              "      border-right-color: var(--fill-color);\n",
              "      border-top-color: var(--fill-color);\n",
              "    }\n",
              "    60% {\n",
              "      border-color: transparent;\n",
              "      border-right-color: var(--fill-color);\n",
              "    }\n",
              "    80% {\n",
              "      border-color: transparent;\n",
              "      border-right-color: var(--fill-color);\n",
              "      border-bottom-color: var(--fill-color);\n",
              "    }\n",
              "    90% {\n",
              "      border-color: transparent;\n",
              "      border-bottom-color: var(--fill-color);\n",
              "    }\n",
              "  }\n",
              "</style>\n",
              "\n",
              "  <script>\n",
              "    async function quickchart(key) {\n",
              "      const quickchartButtonEl =\n",
              "        document.querySelector('#' + key + ' button');\n",
              "      quickchartButtonEl.disabled = true;  // To prevent multiple clicks.\n",
              "      quickchartButtonEl.classList.add('colab-df-spinner');\n",
              "      try {\n",
              "        const charts = await google.colab.kernel.invokeFunction(\n",
              "            'suggestCharts', [key], {});\n",
              "      } catch (error) {\n",
              "        console.error('Error during call to suggestCharts:', error);\n",
              "      }\n",
              "      quickchartButtonEl.classList.remove('colab-df-spinner');\n",
              "      quickchartButtonEl.classList.add('colab-df-quickchart-complete');\n",
              "    }\n",
              "    (() => {\n",
              "      let quickchartButtonEl =\n",
              "        document.querySelector('#df-f6fc38d3-27f6-4b98-ac38-2606eec6356e button');\n",
              "      quickchartButtonEl.style.display =\n",
              "        google.colab.kernel.accessAllowed ? 'block' : 'none';\n",
              "    })();\n",
              "  </script>\n",
              "</div>\n",
              "\n",
              "  <div id=\"id_d9ae26f6-6547-424c-b10a-e47f6ef003cd\">\n",
              "    <style>\n",
              "      .colab-df-generate {\n",
              "        background-color: #E8F0FE;\n",
              "        border: none;\n",
              "        border-radius: 50%;\n",
              "        cursor: pointer;\n",
              "        display: none;\n",
              "        fill: #1967D2;\n",
              "        height: 32px;\n",
              "        padding: 0 0 0 0;\n",
              "        width: 32px;\n",
              "      }\n",
              "\n",
              "      .colab-df-generate:hover {\n",
              "        background-color: #E2EBFA;\n",
              "        box-shadow: 0px 1px 2px rgba(60, 64, 67, 0.3), 0px 1px 3px 1px rgba(60, 64, 67, 0.15);\n",
              "        fill: #174EA6;\n",
              "      }\n",
              "\n",
              "      [theme=dark] .colab-df-generate {\n",
              "        background-color: #3B4455;\n",
              "        fill: #D2E3FC;\n",
              "      }\n",
              "\n",
              "      [theme=dark] .colab-df-generate:hover {\n",
              "        background-color: #434B5C;\n",
              "        box-shadow: 0px 1px 3px 1px rgba(0, 0, 0, 0.15);\n",
              "        filter: drop-shadow(0px 1px 2px rgba(0, 0, 0, 0.3));\n",
              "        fill: #FFFFFF;\n",
              "      }\n",
              "    </style>\n",
              "    <button class=\"colab-df-generate\" onclick=\"generateWithVariable('canDivFls')\"\n",
              "            title=\"Generate code using this dataframe.\"\n",
              "            style=\"display:none;\">\n",
              "\n",
              "  <svg xmlns=\"http://www.w3.org/2000/svg\" height=\"24px\"viewBox=\"0 0 24 24\"\n",
              "       width=\"24px\">\n",
              "    <path d=\"M7,19H8.4L18.45,9,17,7.55,7,17.6ZM5,21V16.75L18.45,3.32a2,2,0,0,1,2.83,0l1.4,1.43a1.91,1.91,0,0,1,.58,1.4,1.91,1.91,0,0,1-.58,1.4L9.25,21ZM18.45,9,17,7.55Zm-12,3A5.31,5.31,0,0,0,4.9,8.1,5.31,5.31,0,0,0,1,6.5,5.31,5.31,0,0,0,4.9,4.9,5.31,5.31,0,0,0,6.5,1,5.31,5.31,0,0,0,8.1,4.9,5.31,5.31,0,0,0,12,6.5,5.46,5.46,0,0,0,6.5,12Z\"/>\n",
              "  </svg>\n",
              "    </button>\n",
              "    <script>\n",
              "      (() => {\n",
              "      const buttonEl =\n",
              "        document.querySelector('#id_d9ae26f6-6547-424c-b10a-e47f6ef003cd button.colab-df-generate');\n",
              "      buttonEl.style.display =\n",
              "        google.colab.kernel.accessAllowed ? 'block' : 'none';\n",
              "\n",
              "      buttonEl.onclick = () => {\n",
              "        google.colab.notebook.generateWithVariable('canDivFls');\n",
              "      }\n",
              "      })();\n",
              "    </script>\n",
              "  </div>\n",
              "\n",
              "    </div>\n",
              "  </div>\n"
            ],
            "application/vnd.google.colaboratory.intrinsic+json": {
              "type": "dataframe",
              "variable_name": "canDivFls",
              "summary": "{\n  \"name\": \"canDivFls\",\n  \"rows\": 3,\n  \"fields\": [\n    {\n      \"column\": \"PercArrCan\",\n      \"properties\": {\n        \"dtype\": \"number\",\n        \"std\": 0.789883936335938,\n        \"min\": 1.4370140927548292,\n        \"max\": 2.810995164707165,\n        \"num_unique_values\": 3,\n        \"samples\": [\n          1.4370140927548292,\n          1.4488143525256882,\n          2.810995164707165\n        ],\n        \"semantic_type\": \"\",\n        \"description\": \"\"\n      }\n    },\n    {\n      \"column\": \"PercDepCan\",\n      \"properties\": {\n        \"dtype\": \"number\",\n        \"std\": 0.7397008548524415,\n        \"min\": 1.4276467868700877,\n        \"max\": 2.7162757799632167,\n        \"num_unique_values\": 3,\n        \"samples\": [\n          1.4276467868700877,\n          1.4426373981015153,\n          2.7162757799632167\n        ],\n        \"semantic_type\": \"\",\n        \"description\": \"\"\n      }\n    },\n    {\n      \"column\": \"PercArrDiv\",\n      \"properties\": {\n        \"dtype\": \"number\",\n        \"std\": 0.06853715054440489,\n        \"min\": 0.11388240370464545,\n        \"max\": 0.2483585693997544,\n        \"num_unique_values\": 3,\n        \"samples\": [\n          0.11388240370464545,\n          0.158117363738211,\n          0.2483585693997544\n        ],\n        \"semantic_type\": \"\",\n        \"description\": \"\"\n      }\n    },\n    {\n      \"column\": \"PercDepDiv\",\n      \"properties\": {\n        \"dtype\": \"number\",\n        \"std\": 0.013703286427288528,\n        \"min\": 0.22484204037602093,\n        \"max\": 0.25205466087710754,\n        \"num_unique_values\": 3,\n        \"samples\": [\n          0.22484204037602093,\n          0.24126706324455327,\n          0.25205466087710754\n        ],\n        \"semantic_type\": \"\",\n        \"description\": \"\"\n      }\n    }\n  ]\n}"
            }
          },
          "metadata": {},
          "execution_count": 89
        }
      ],
      "source": [
        "d = np.array([[numCanArrDTW / numArrDTW *100, numCanDepDTW / numDepDTW *100,\n",
        "               numDivArrDTW / numArrDTW *100, numDivDepDTW / numDepDTW *100],\n",
        "              [numCanArrMSP / numArrMSP *100, numCanDepMSP / numDepMSP *100,\n",
        "               numDivArrMSP / numArrMSP *100, numDivDepMSP / numDepMSP *100],\n",
        "              [numCanArrORD / numArrORD *100, numCanDepORD / numDepORD *100,\n",
        "               numDivArrORD / numArrORD *100, numDivDepORD / numDepORD *100]])\n",
        "canDivFls = pd.DataFrame(data=d,\n",
        "                        columns = ['PercArrCan', 'PercDepCan', 'PercArrDiv',\n",
        "                                   'PercDepDiv'],\n",
        "                        index = ['DTW', 'MSP', 'ORD'])\n",
        "canDivFls"
      ]
    },
    {
      "cell_type": "code",
      "execution_count": null,
      "id": "a4a3d4de",
      "metadata": {
        "colab": {
          "base_uri": "https://localhost:8080/"
        },
        "id": "a4a3d4de",
        "outputId": "59e78fb5-7cc3-43f8-944c-f016cf1319da"
      },
      "outputs": [
        {
          "output_type": "stream",
          "name": "stdout",
          "text": [
            "Flight data:    4950620 rows\n"
          ]
        }
      ],
      "source": [
        "# Remove the cancelled and diverted flights.\n",
        "flights = flights.drop(flights[flights['cancelled']==1].index) # deleting records of number of flights cancelled\n",
        "flights = flights.drop(flights[flights['diverted']==1].index) # deleting records of number of flights departed\n",
        "flights.reset_index(drop=True)\n",
        "print(\"Flight data:   %8d rows\" % flights.shape[0])"
      ]
    },
    {
      "cell_type": "code",
      "source": [
        "def extract_hour(time):\n",
        "\n",
        "    hours=time//100\n",
        "\n",
        "    return hours\n",
        "print(extract_hour(1450))\n",
        "print(extract_hour(flights['actDepTime'][100:200]))\n"
      ],
      "metadata": {
        "colab": {
          "base_uri": "https://localhost:8080/"
        },
        "id": "CMAjedUi2dzU",
        "outputId": "900eed4e-60bd-40b9-e55e-d0ab706c9825"
      },
      "id": "CMAjedUi2dzU",
      "execution_count": null,
      "outputs": [
        {
          "output_type": "execute_result",
          "data": {
            "text/plain": [
              "100    10.0\n",
              "101     7.0\n",
              "102    18.0\n",
              "103    13.0\n",
              "104    10.0\n",
              "       ... \n",
              "195    18.0\n",
              "196    10.0\n",
              "197     7.0\n",
              "198    18.0\n",
              "199    14.0\n",
              "Name: actDepTime, Length: 100, dtype: float64"
            ]
          },
          "metadata": {},
          "execution_count": 161
        }
      ]
    },
    {
      "cell_type": "code",
      "execution_count": null,
      "id": "a673e1ee",
      "metadata": {
        "id": "a673e1ee",
        "colab": {
          "base_uri": "https://localhost:8080/"
        },
        "outputId": "16009df7-58c7-4880-ae06-cabdfbc1a800"
      },
      "outputs": [
        {
          "output_type": "stream",
          "name": "stdout",
          "text": [
            "50\n",
            "100     7.0\n",
            "101    20.0\n",
            "102    23.0\n",
            "103    58.0\n",
            "104    44.0\n",
            "       ... \n",
            "195    30.0\n",
            "196     8.0\n",
            "197     2.0\n",
            "198    28.0\n",
            "199     4.0\n",
            "Name: actDepTime, Length: 100, dtype: float64\n",
            "0          10\n",
            "1           0\n",
            "2          30\n",
            "3           5\n",
            "4          45\n",
            "           ..\n",
            "5068842    30\n",
            "5068843    15\n",
            "5068844    25\n",
            "5068845    50\n",
            "5068846    15\n",
            "Name: crsDepTime, Length: 5068847, dtype: int64\n"
          ]
        }
      ],
      "source": [
        "def extract_min(time):\n",
        "\n",
        "    mins=time%100\n",
        "    return mins\n",
        "\n",
        "print(extract_min(1450))\n",
        "print(extract_min(flights['actDepTime'][100:200]))\n",
        "print(extract_min(flights['crsDepTime']))"
      ]
    },
    {
      "cell_type": "markdown",
      "id": "59a84ae9",
      "metadata": {
        "id": "59a84ae9"
      },
      "source": [
        "Here are some examples of usage:\n",
        "\n",
        "```\n",
        ">>> extract_hour(1450)\n",
        ">>> extract_hour(flights['actDepTime'][100:200])\n",
        ">>> extract_hour(flights['crsDepTime'])\n",
        ">>> extract_mins(1450)\n",
        ">>> extract_mins(flights['actDepTime'][100:200])\n",
        ">>> extract_mins(flights['crsDepTime'])\n",
        "```"
      ]
    },
    {
      "cell_type": "code",
      "execution_count": null,
      "id": "7bffdb9a",
      "metadata": {
        "id": "7bffdb9a",
        "colab": {
          "base_uri": "https://localhost:8080/"
        },
        "outputId": "3c08fcca-5b81-4cf5-f735-e63491e514ad"
      },
      "outputs": [
        {
          "output_type": "execute_result",
          "data": {
            "text/plain": [
              "890"
            ]
          },
          "metadata": {},
          "execution_count": 160
        }
      ],
      "source": [
        "def convert_to_minofday(time):\n",
        "    # make use of the functions you wrote above: extract_hour, extract_min\n",
        "    minOfDay = extract_hour(time)*60+extract_min(time)\n",
        "    return minOfDay\n",
        "convert_to_minofday(1450)"
      ]
    },
    {
      "cell_type": "code",
      "execution_count": null,
      "id": "9b0d17f1",
      "metadata": {
        "id": "9b0d17f1",
        "colab": {
          "base_uri": "https://localhost:8080/"
        },
        "outputId": "3702e08e-a0d4-4576-8792-9ce8d1f5cb1b"
      },
      "outputs": [
        {
          "output_type": "execute_result",
          "data": {
            "text/plain": [
              "0    2\n",
              "dtype: int64"
            ]
          },
          "metadata": {},
          "execution_count": 166
        }
      ],
      "source": [
        "def calc_time_diff(x, y, nextDay):\n",
        "    \"\"\"\n",
        "    Calculate the time difference, y - x, accounting for nextDay changes.\n",
        "\n",
        "    Input:\n",
        "        x,y (float64 or int64): Series of scheduled time given in hhmm format.\n",
        "          Takes on values in 0.0-2400.0 due to float64 representation or\n",
        "          values in 0-2400 in int64 representation\n",
        "        nextDay (int): Series of next day indicator, takes on values: -1, 0, 1, 2\n",
        "\n",
        "    Returns:\n",
        "        array (float64): array of input dimension with delay time\n",
        "\n",
        "\n",
        "    Example: 1303 is converted to 783\n",
        "             1305 is converted to 785\n",
        "    >>> calc_time_diff(pd.Series([1303]), pd.Series([1305]), pd.Series([0]))\n",
        "    2\n",
        "\n",
        "    Example: 2320.0 is converted to 1400.0\n",
        "               37.0 is converted to    37.0\n",
        "    >>> calc_time_diff(pd.Series([2320.0]), pd.Series([37.0]), pd.Series([1]))\n",
        "    77.0\n",
        "    \"\"\"\n",
        "    # make use of the convert_to_minofday function\n",
        "\n",
        "    diff = convert_to_minofday(y) - convert_to_minofday(x)\n",
        "    diff += 1440 * (nextDay == -1)\n",
        "    diff += 1440 * (nextDay == 1)\n",
        "    diff += 2880 * (nextDay == 2)\n",
        "    return diff\n",
        "calc_time_diff(pd.Series([1303]), pd.Series([1305]), pd.Series([0]))\n"
      ]
    },
    {
      "cell_type": "code",
      "execution_count": null,
      "id": "054bc7c0",
      "metadata": {
        "id": "054bc7c0"
      },
      "outputs": [],
      "source": [
        "flights['depDelay'] = calc_time_diff(flights['crsDepTime'], flights['actDepTime'],flights['depNextDay'])\n",
        "flights['arrDelay'] = calc_time_diff(flights['crsArrTime'], flights['actArrTime'],flights['arrNextDay'])"
      ]
    },
    {
      "cell_type": "code",
      "execution_count": null,
      "id": "e0f8db27",
      "metadata": {
        "colab": {
          "base_uri": "https://localhost:8080/",
          "height": 206
        },
        "id": "e0f8db27",
        "outputId": "cae7e8dc-3566-4f17-9e06-5f15b18b227d"
      },
      "outputs": [
        {
          "output_type": "execute_result",
          "data": {
            "text/plain": [
              "   year  month  day carrier tailNum  flNum origin dest  crsDepTime  \\\n",
              "0  2021      4   11      AS  N309AS    792    SEA  DTW        1010   \n",
              "1  2021      4   11      AS  N408AS   1011    ORD  SEA         700   \n",
              "2  2021      4   11      AS  N520AS   1012    SEA  MSP        1830   \n",
              "3  2021      4   11      AS  N472AS   1013    ORD  SEA        1405   \n",
              "4  2021      4   11      AS  N237AK   1014    SEA  ORD        1045   \n",
              "\n",
              "   actDepTime  depNextDay  crsArrTime  actArrTime  arrNextDay  cancelled  \\\n",
              "0      1013.0           0        1730      1736.0           0        0.0   \n",
              "1       703.0           0         940       916.0           0        0.0   \n",
              "2      1825.0           0        2345      2337.0           0        0.0   \n",
              "3      1404.0           0        1645      1627.0           0        0.0   \n",
              "4      1054.0           0        1650      1652.0           0        0.0   \n",
              "\n",
              "   diverted  depDelay  arrDelay  \n",
              "0       0.0       3.0       6.0  \n",
              "1       0.0       3.0     -24.0  \n",
              "2       0.0      -5.0      -8.0  \n",
              "3       0.0      -1.0     -18.0  \n",
              "4       0.0       9.0       2.0  "
            ],
            "text/html": [
              "\n",
              "  <div id=\"df-754ecc29-9a5b-4af7-8a67-abbaeb94e5a7\" class=\"colab-df-container\">\n",
              "    <div>\n",
              "<style scoped>\n",
              "    .dataframe tbody tr th:only-of-type {\n",
              "        vertical-align: middle;\n",
              "    }\n",
              "\n",
              "    .dataframe tbody tr th {\n",
              "        vertical-align: top;\n",
              "    }\n",
              "\n",
              "    .dataframe thead th {\n",
              "        text-align: right;\n",
              "    }\n",
              "</style>\n",
              "<table border=\"1\" class=\"dataframe\">\n",
              "  <thead>\n",
              "    <tr style=\"text-align: right;\">\n",
              "      <th></th>\n",
              "      <th>year</th>\n",
              "      <th>month</th>\n",
              "      <th>day</th>\n",
              "      <th>carrier</th>\n",
              "      <th>tailNum</th>\n",
              "      <th>flNum</th>\n",
              "      <th>origin</th>\n",
              "      <th>dest</th>\n",
              "      <th>crsDepTime</th>\n",
              "      <th>actDepTime</th>\n",
              "      <th>depNextDay</th>\n",
              "      <th>crsArrTime</th>\n",
              "      <th>actArrTime</th>\n",
              "      <th>arrNextDay</th>\n",
              "      <th>cancelled</th>\n",
              "      <th>diverted</th>\n",
              "      <th>depDelay</th>\n",
              "      <th>arrDelay</th>\n",
              "    </tr>\n",
              "  </thead>\n",
              "  <tbody>\n",
              "    <tr>\n",
              "      <th>0</th>\n",
              "      <td>2021</td>\n",
              "      <td>4</td>\n",
              "      <td>11</td>\n",
              "      <td>AS</td>\n",
              "      <td>N309AS</td>\n",
              "      <td>792</td>\n",
              "      <td>SEA</td>\n",
              "      <td>DTW</td>\n",
              "      <td>1010</td>\n",
              "      <td>1013.0</td>\n",
              "      <td>0</td>\n",
              "      <td>1730</td>\n",
              "      <td>1736.0</td>\n",
              "      <td>0</td>\n",
              "      <td>0.0</td>\n",
              "      <td>0.0</td>\n",
              "      <td>3.0</td>\n",
              "      <td>6.0</td>\n",
              "    </tr>\n",
              "    <tr>\n",
              "      <th>1</th>\n",
              "      <td>2021</td>\n",
              "      <td>4</td>\n",
              "      <td>11</td>\n",
              "      <td>AS</td>\n",
              "      <td>N408AS</td>\n",
              "      <td>1011</td>\n",
              "      <td>ORD</td>\n",
              "      <td>SEA</td>\n",
              "      <td>700</td>\n",
              "      <td>703.0</td>\n",
              "      <td>0</td>\n",
              "      <td>940</td>\n",
              "      <td>916.0</td>\n",
              "      <td>0</td>\n",
              "      <td>0.0</td>\n",
              "      <td>0.0</td>\n",
              "      <td>3.0</td>\n",
              "      <td>-24.0</td>\n",
              "    </tr>\n",
              "    <tr>\n",
              "      <th>2</th>\n",
              "      <td>2021</td>\n",
              "      <td>4</td>\n",
              "      <td>11</td>\n",
              "      <td>AS</td>\n",
              "      <td>N520AS</td>\n",
              "      <td>1012</td>\n",
              "      <td>SEA</td>\n",
              "      <td>MSP</td>\n",
              "      <td>1830</td>\n",
              "      <td>1825.0</td>\n",
              "      <td>0</td>\n",
              "      <td>2345</td>\n",
              "      <td>2337.0</td>\n",
              "      <td>0</td>\n",
              "      <td>0.0</td>\n",
              "      <td>0.0</td>\n",
              "      <td>-5.0</td>\n",
              "      <td>-8.0</td>\n",
              "    </tr>\n",
              "    <tr>\n",
              "      <th>3</th>\n",
              "      <td>2021</td>\n",
              "      <td>4</td>\n",
              "      <td>11</td>\n",
              "      <td>AS</td>\n",
              "      <td>N472AS</td>\n",
              "      <td>1013</td>\n",
              "      <td>ORD</td>\n",
              "      <td>SEA</td>\n",
              "      <td>1405</td>\n",
              "      <td>1404.0</td>\n",
              "      <td>0</td>\n",
              "      <td>1645</td>\n",
              "      <td>1627.0</td>\n",
              "      <td>0</td>\n",
              "      <td>0.0</td>\n",
              "      <td>0.0</td>\n",
              "      <td>-1.0</td>\n",
              "      <td>-18.0</td>\n",
              "    </tr>\n",
              "    <tr>\n",
              "      <th>4</th>\n",
              "      <td>2021</td>\n",
              "      <td>4</td>\n",
              "      <td>11</td>\n",
              "      <td>AS</td>\n",
              "      <td>N237AK</td>\n",
              "      <td>1014</td>\n",
              "      <td>SEA</td>\n",
              "      <td>ORD</td>\n",
              "      <td>1045</td>\n",
              "      <td>1054.0</td>\n",
              "      <td>0</td>\n",
              "      <td>1650</td>\n",
              "      <td>1652.0</td>\n",
              "      <td>0</td>\n",
              "      <td>0.0</td>\n",
              "      <td>0.0</td>\n",
              "      <td>9.0</td>\n",
              "      <td>2.0</td>\n",
              "    </tr>\n",
              "  </tbody>\n",
              "</table>\n",
              "</div>\n",
              "    <div class=\"colab-df-buttons\">\n",
              "\n",
              "  <div class=\"colab-df-container\">\n",
              "    <button class=\"colab-df-convert\" onclick=\"convertToInteractive('df-754ecc29-9a5b-4af7-8a67-abbaeb94e5a7')\"\n",
              "            title=\"Convert this dataframe to an interactive table.\"\n",
              "            style=\"display:none;\">\n",
              "\n",
              "  <svg xmlns=\"http://www.w3.org/2000/svg\" height=\"24px\" viewBox=\"0 -960 960 960\">\n",
              "    <path d=\"M120-120v-720h720v720H120Zm60-500h600v-160H180v160Zm220 220h160v-160H400v160Zm0 220h160v-160H400v160ZM180-400h160v-160H180v160Zm440 0h160v-160H620v160ZM180-180h160v-160H180v160Zm440 0h160v-160H620v160Z\"/>\n",
              "  </svg>\n",
              "    </button>\n",
              "\n",
              "  <style>\n",
              "    .colab-df-container {\n",
              "      display:flex;\n",
              "      gap: 12px;\n",
              "    }\n",
              "\n",
              "    .colab-df-convert {\n",
              "      background-color: #E8F0FE;\n",
              "      border: none;\n",
              "      border-radius: 50%;\n",
              "      cursor: pointer;\n",
              "      display: none;\n",
              "      fill: #1967D2;\n",
              "      height: 32px;\n",
              "      padding: 0 0 0 0;\n",
              "      width: 32px;\n",
              "    }\n",
              "\n",
              "    .colab-df-convert:hover {\n",
              "      background-color: #E2EBFA;\n",
              "      box-shadow: 0px 1px 2px rgba(60, 64, 67, 0.3), 0px 1px 3px 1px rgba(60, 64, 67, 0.15);\n",
              "      fill: #174EA6;\n",
              "    }\n",
              "\n",
              "    .colab-df-buttons div {\n",
              "      margin-bottom: 4px;\n",
              "    }\n",
              "\n",
              "    [theme=dark] .colab-df-convert {\n",
              "      background-color: #3B4455;\n",
              "      fill: #D2E3FC;\n",
              "    }\n",
              "\n",
              "    [theme=dark] .colab-df-convert:hover {\n",
              "      background-color: #434B5C;\n",
              "      box-shadow: 0px 1px 3px 1px rgba(0, 0, 0, 0.15);\n",
              "      filter: drop-shadow(0px 1px 2px rgba(0, 0, 0, 0.3));\n",
              "      fill: #FFFFFF;\n",
              "    }\n",
              "  </style>\n",
              "\n",
              "    <script>\n",
              "      const buttonEl =\n",
              "        document.querySelector('#df-754ecc29-9a5b-4af7-8a67-abbaeb94e5a7 button.colab-df-convert');\n",
              "      buttonEl.style.display =\n",
              "        google.colab.kernel.accessAllowed ? 'block' : 'none';\n",
              "\n",
              "      async function convertToInteractive(key) {\n",
              "        const element = document.querySelector('#df-754ecc29-9a5b-4af7-8a67-abbaeb94e5a7');\n",
              "        const dataTable =\n",
              "          await google.colab.kernel.invokeFunction('convertToInteractive',\n",
              "                                                    [key], {});\n",
              "        if (!dataTable) return;\n",
              "\n",
              "        const docLinkHtml = 'Like what you see? Visit the ' +\n",
              "          '<a target=\"_blank\" href=https://colab.research.google.com/notebooks/data_table.ipynb>data table notebook</a>'\n",
              "          + ' to learn more about interactive tables.';\n",
              "        element.innerHTML = '';\n",
              "        dataTable['output_type'] = 'display_data';\n",
              "        await google.colab.output.renderOutput(dataTable, element);\n",
              "        const docLink = document.createElement('div');\n",
              "        docLink.innerHTML = docLinkHtml;\n",
              "        element.appendChild(docLink);\n",
              "      }\n",
              "    </script>\n",
              "  </div>\n",
              "\n",
              "\n",
              "<div id=\"df-f7c3c8f8-8f19-431a-b056-b75bc3faec75\">\n",
              "  <button class=\"colab-df-quickchart\" onclick=\"quickchart('df-f7c3c8f8-8f19-431a-b056-b75bc3faec75')\"\n",
              "            title=\"Suggest charts\"\n",
              "            style=\"display:none;\">\n",
              "\n",
              "<svg xmlns=\"http://www.w3.org/2000/svg\" height=\"24px\"viewBox=\"0 0 24 24\"\n",
              "     width=\"24px\">\n",
              "    <g>\n",
              "        <path d=\"M19 3H5c-1.1 0-2 .9-2 2v14c0 1.1.9 2 2 2h14c1.1 0 2-.9 2-2V5c0-1.1-.9-2-2-2zM9 17H7v-7h2v7zm4 0h-2V7h2v10zm4 0h-2v-4h2v4z\"/>\n",
              "    </g>\n",
              "</svg>\n",
              "  </button>\n",
              "\n",
              "<style>\n",
              "  .colab-df-quickchart {\n",
              "      --bg-color: #E8F0FE;\n",
              "      --fill-color: #1967D2;\n",
              "      --hover-bg-color: #E2EBFA;\n",
              "      --hover-fill-color: #174EA6;\n",
              "      --disabled-fill-color: #AAA;\n",
              "      --disabled-bg-color: #DDD;\n",
              "  }\n",
              "\n",
              "  [theme=dark] .colab-df-quickchart {\n",
              "      --bg-color: #3B4455;\n",
              "      --fill-color: #D2E3FC;\n",
              "      --hover-bg-color: #434B5C;\n",
              "      --hover-fill-color: #FFFFFF;\n",
              "      --disabled-bg-color: #3B4455;\n",
              "      --disabled-fill-color: #666;\n",
              "  }\n",
              "\n",
              "  .colab-df-quickchart {\n",
              "    background-color: var(--bg-color);\n",
              "    border: none;\n",
              "    border-radius: 50%;\n",
              "    cursor: pointer;\n",
              "    display: none;\n",
              "    fill: var(--fill-color);\n",
              "    height: 32px;\n",
              "    padding: 0;\n",
              "    width: 32px;\n",
              "  }\n",
              "\n",
              "  .colab-df-quickchart:hover {\n",
              "    background-color: var(--hover-bg-color);\n",
              "    box-shadow: 0 1px 2px rgba(60, 64, 67, 0.3), 0 1px 3px 1px rgba(60, 64, 67, 0.15);\n",
              "    fill: var(--button-hover-fill-color);\n",
              "  }\n",
              "\n",
              "  .colab-df-quickchart-complete:disabled,\n",
              "  .colab-df-quickchart-complete:disabled:hover {\n",
              "    background-color: var(--disabled-bg-color);\n",
              "    fill: var(--disabled-fill-color);\n",
              "    box-shadow: none;\n",
              "  }\n",
              "\n",
              "  .colab-df-spinner {\n",
              "    border: 2px solid var(--fill-color);\n",
              "    border-color: transparent;\n",
              "    border-bottom-color: var(--fill-color);\n",
              "    animation:\n",
              "      spin 1s steps(1) infinite;\n",
              "  }\n",
              "\n",
              "  @keyframes spin {\n",
              "    0% {\n",
              "      border-color: transparent;\n",
              "      border-bottom-color: var(--fill-color);\n",
              "      border-left-color: var(--fill-color);\n",
              "    }\n",
              "    20% {\n",
              "      border-color: transparent;\n",
              "      border-left-color: var(--fill-color);\n",
              "      border-top-color: var(--fill-color);\n",
              "    }\n",
              "    30% {\n",
              "      border-color: transparent;\n",
              "      border-left-color: var(--fill-color);\n",
              "      border-top-color: var(--fill-color);\n",
              "      border-right-color: var(--fill-color);\n",
              "    }\n",
              "    40% {\n",
              "      border-color: transparent;\n",
              "      border-right-color: var(--fill-color);\n",
              "      border-top-color: var(--fill-color);\n",
              "    }\n",
              "    60% {\n",
              "      border-color: transparent;\n",
              "      border-right-color: var(--fill-color);\n",
              "    }\n",
              "    80% {\n",
              "      border-color: transparent;\n",
              "      border-right-color: var(--fill-color);\n",
              "      border-bottom-color: var(--fill-color);\n",
              "    }\n",
              "    90% {\n",
              "      border-color: transparent;\n",
              "      border-bottom-color: var(--fill-color);\n",
              "    }\n",
              "  }\n",
              "</style>\n",
              "\n",
              "  <script>\n",
              "    async function quickchart(key) {\n",
              "      const quickchartButtonEl =\n",
              "        document.querySelector('#' + key + ' button');\n",
              "      quickchartButtonEl.disabled = true;  // To prevent multiple clicks.\n",
              "      quickchartButtonEl.classList.add('colab-df-spinner');\n",
              "      try {\n",
              "        const charts = await google.colab.kernel.invokeFunction(\n",
              "            'suggestCharts', [key], {});\n",
              "      } catch (error) {\n",
              "        console.error('Error during call to suggestCharts:', error);\n",
              "      }\n",
              "      quickchartButtonEl.classList.remove('colab-df-spinner');\n",
              "      quickchartButtonEl.classList.add('colab-df-quickchart-complete');\n",
              "    }\n",
              "    (() => {\n",
              "      let quickchartButtonEl =\n",
              "        document.querySelector('#df-f7c3c8f8-8f19-431a-b056-b75bc3faec75 button');\n",
              "      quickchartButtonEl.style.display =\n",
              "        google.colab.kernel.accessAllowed ? 'block' : 'none';\n",
              "    })();\n",
              "  </script>\n",
              "</div>\n",
              "\n",
              "    </div>\n",
              "  </div>\n"
            ],
            "application/vnd.google.colaboratory.intrinsic+json": {
              "type": "dataframe",
              "variable_name": "flights"
            }
          },
          "metadata": {},
          "execution_count": 141
        }
      ],
      "source": [
        "flights.head()"
      ]
    },
    {
      "cell_type": "code",
      "execution_count": null,
      "id": "8fb1e209",
      "metadata": {
        "colab": {
          "base_uri": "https://localhost:8080/"
        },
        "id": "8fb1e209",
        "outputId": "59da51fb-0a75-437c-9682-7b3733f7fb6a"
      },
      "outputs": [
        {
          "output_type": "stream",
          "name": "stdout",
          "text": [
            "DTW delayed flights:    26046, 4.014%\n",
            "MSP delayed flights:    21560, 3.345%\n",
            "ORD delayed flights:    70076, 5.341%\n"
          ]
        }
      ],
      "source": [
        "# Using your the new column flights['depDelay'] to filter the number of\n",
        "#  flights delayed over 75 minutes for each airport.\n",
        "\n",
        "# Report the number and the percentage for each airport.\n",
        "\n",
        "delayedDTW = flights[flights['origin']=='DTW'].shape[0]\n",
        "numDepMSP  = flights[flights['origin']=='MSP'].shape[0]\n",
        "numDepORD  = flights[flights['origin']=='ORD'].shape[0]\n",
        "\n",
        "delayedDTW = flights[(flights['depDelay']>=75) & (flights['origin']=='DTW')].shape[0] # filtering flights that delayed more than 75 in DTW\n",
        "\n",
        "delayedMSP = flights[(flights['depDelay']>=75) & (flights['origin']=='MSP')].shape[0] # filtering flights that delayed more than 75 in MSP\n",
        "\n",
        "delayedORD = flights[(flights['depDelay']>=75) & (flights['origin']=='ORD')].shape[0] # filtering flights that delayed more than 75 in ORD\n",
        "\n",
        "\n",
        "print(\"DTW delayed flights:  %7d, %3.3f%%\" % (delayedDTW, delayedDTW/numDepDTW*100))\n",
        "print(\"MSP delayed flights:  %7d, %3.3f%%\" % (delayedMSP, delayedMSP/numDepMSP*100))\n",
        "print(\"ORD delayed flights:  %7d, %3.3f%%\" % (delayedORD, delayedORD/numDepORD*100))"
      ]
    },
    {
      "cell_type": "code",
      "source": [
        " # Hist plts\n",
        "plt.figure(figsize=(10,4.5)) # setting figure size\n",
        "plt.subplot(1,2,1)\n",
        "plt.hist(flights [flights['origin'] == 'DTW'] ['depDelay'], bins=20, color='blue') # plotting departure delay for DTW\n",
        "plt.yscale('log') # setting logarthmic for y axis\n",
        "plt.xlabel('Delay (minutes)')\n",
        "plt.ylabel('Frequency (log scale)')\n",
        "plt.title('Departure Delay for DTW ')\n",
        "\n",
        "plt.subplot(1,2,2)\n",
        "plt.hist(flights[flights['dest'] == 'DTW'] ['arrDelay'], bins=20, color='pink',) # Plotting arrival delay for DTW\n",
        "plt.yscale('log')\n",
        "plt.xlabel('Delay (minutes)')\n",
        "plt.ylabel('Number of Flights (log scale)')\n",
        "plt.title('Arrival delay for DTW ')\n"
      ],
      "metadata": {
        "colab": {
          "base_uri": "https://localhost:8080/",
          "height": 466
        },
        "id": "3x4-AQ-nY-3f",
        "outputId": "c7e7cc5a-950a-4698-d4da-aadeb18c6aa8"
      },
      "id": "3x4-AQ-nY-3f",
      "execution_count": null,
      "outputs": [
        {
          "output_type": "execute_result",
          "data": {
            "text/plain": [
              "Text(0.5, 1.0, 'Arrival delay for DTW ')"
            ]
          },
          "metadata": {},
          "execution_count": 147
        },
        {
          "output_type": "display_data",
          "data": {
            "text/plain": [
              "<Figure size 1000x450 with 2 Axes>"
            ],
            "image/png": "[encoded data removed]"
          },
          "metadata": {}
        }
      ]
    },
    {
      "cell_type": "code",
      "execution_count": null,
      "id": "3262e48f",
      "metadata": {
        "id": "3262e48f",
        "colab": {
          "base_uri": "https://localhost:8080/",
          "height": 466
        },
        "outputId": "f0cb858e-88cd-4e2f-f54f-03989be549bd"
      },
      "outputs": [
        {
          "output_type": "execute_result",
          "data": {
            "text/plain": [
              "Text(0.5, 1.0, 'Arrival Delay for MSP Airport')"
            ]
          },
          "metadata": {},
          "execution_count": 148
        },
        {
          "output_type": "display_data",
          "data": {
            "text/plain": [
              "<Figure size 1000x450 with 2 Axes>"
            ],
            "image/png": "[encoded data removed]"
          },
          "metadata": {}
        }
      ],
      "source": [
        "# Histograms for MSP\n",
        "plt.figure(figsize=(10,4.5))#setting figure size\n",
        "plt.subplot(1,2,1) #subplot\n",
        "plt.hist(flights[flights['origin'] == 'MSP']['depDelay'], bins=30, color='lightgreen')\n",
        "plt.yscale('log')\n",
        "plt.xlabel('Delay (minutes)')\n",
        "plt.ylabel('Freuency (log scale)')\n",
        "plt.title('Departure Delay for MSP')\n",
        "\n",
        "\n",
        "plt.subplot(1,2,2)\n",
        "plt.hist(flights[flights['dest'] == 'MSP']['arrDelay'], bins=30, color='skyblue')\n",
        "plt.yscale('log')\n",
        "plt.xlabel('Delay (minutes)')\n",
        "plt.ylabel('Frequency (log scale)')\n",
        "plt.title('Arrival Delay for MSP Airport')"
      ]
    },
    {
      "cell_type": "code",
      "source": [
        "# Histograms for ORD\n",
        "plt.figure(figsize=(10,4.5)) # setting figure size\n",
        "plt.subplot(1,2,1)\n",
        "plt.hist(flights[flights['origin'] == 'ORD']['depDelay'], bins=30, color='orange') #plotting for deparature delay for ORD\n",
        "plt.yscale('log')\n",
        "plt.xlabel('Delay (minutes)')\n",
        "plt.ylabel('Frequency (log scale)')\n",
        "plt.title('Delays Distribution for ORD Airport')\n",
        "\n",
        "\n",
        "plt.subplot(1,2,2)\n",
        "plt.hist(flights[flights['dest'] == 'ORD']['arrDelay'], bins=30, color='yellow') # plotting for arrival delay for ORD\n",
        "plt.yscale('log')\n",
        "plt.xlabel('Delay (minutes)')\n",
        "plt.ylabel('Frequency (log scale)')\n",
        "plt.title('Arrival delay for ORD Airport')"
      ],
      "metadata": {
        "colab": {
          "base_uri": "https://localhost:8080/",
          "height": 466
        },
        "id": "JBo5IM71lklb",
        "outputId": "226e8caf-5203-43da-8069-1596cc62fb8e"
      },
      "id": "JBo5IM71lklb",
      "execution_count": null,
      "outputs": [
        {
          "output_type": "execute_result",
          "data": {
            "text/plain": [
              "Text(0.5, 1.0, 'Arrival delay for ORD Airport')"
            ]
          },
          "metadata": {},
          "execution_count": 150
        },
        {
          "output_type": "display_data",
          "data": {
            "text/plain": [
              "<Figure size 1000x450 with 2 Axes>"
            ],
            "image/png": "[encoded data removed]"
          },
          "metadata": {}
        }
      ]
    },
    {
      "cell_type": "code",
      "execution_count": null,
      "id": "f5bcc738",
      "metadata": {
        "id": "f5bcc738",
        "colab": {
          "base_uri": "https://localhost:8080/"
        },
        "outputId": "237846fa-61d0-4f5f-a9fc-3f42261b1a96"
      },
      "outputs": [
        {
          "output_type": "stream",
          "name": "stdout",
          "text": [
            "Depature Delay for flights leaving DTW\n",
            " Mean:     7.5927405833482196\n",
            " Std Dev:  43.61499268204409\n",
            "Arrival Delay for flights arriving in DTW\n",
            " Mean:     7.45310878436443\n",
            " Std Dev:  146.47135753181988\n",
            "\n",
            "Depature Delay for flights leaving MSP\n",
            " Mean:     6.539962945545101\n",
            " Std Dev:  43.04228296430272\n",
            "Arrival Delay for flights arriving in MSP\n",
            " Mean:     5.970643524227963\n",
            " Std Dev:  146.964708833417\n",
            "\n",
            "Depature Delay for flights leaving ORD\n",
            " Mean:     10.85803788002564\n",
            " Std Dev:  47.32238257717498\n",
            "Arrival Delay for flights arriving in ORD\n",
            " Mean:     8.950908247357827\n",
            " Std Dev:  122.47955196588447\n"
          ]
        }
      ],
      "source": [
        "# Calculate the mean and std. Dev. Depature Delay for flights leaving DTW/MSP/ORD\n",
        "# Calculate the mean and std. Dev. Arrival Delay for flights arriving at DTW/MSP/ORD\n",
        "\n",
        "meanDepDTW = flights[(flights['origin'] == 'DTW')]['depDelay'].mean() # Caluculating mean of departaure delay for fights leaving  DTW\n",
        "stdDepDTW = flights[(flights['origin'] == 'DTW')]['depDelay'].std() #Caluculating standard deviation of departaure delay for fights leaving  DTW\n",
        "\n",
        "meanArrDTW = flights[(flights['dest'] == 'DTW')]['arrDelay'].mean()# Calculating mean  of arrival delay for flights arriving at DTW\n",
        "stdArrDTW = flights[(flights['dest'] == 'DTW')]['arrDelay'].std() # Calculating  std. dev. of arrival delay for flights arriving at DTW\n",
        "\n",
        "meanDepMSP = flights[(flights['origin'] == 'MSP')]['depDelay'].mean() #Caluculating mean of departaure delay for fights leaving  MSP\n",
        "stdDepMSP = flights[(flights['origin'] == 'MSP')]['depDelay'].std() #Caluculating std.dev of departaure delay for fights leaving  MSP\n",
        "\n",
        "meanArrMSP = flights[(flights['dest'] == 'MSP')]['arrDelay'].mean()# Calculating mean  of arrival delay for flights arriving at MSP\n",
        "stdArrMSP = flights[(flights['dest'] == 'MSP')]['arrDelay'].std()# # Calculating  std. dev. of arrival delay for flights arriving at MSP\n",
        "\n",
        "meanDepORD = flights[(flights['origin'] == 'ORD')]['depDelay'].mean()# Caluculating mean of departaure delay for fights leaving  ORD\n",
        "stdDepORD = flights[(flights['origin'] == 'ORD')]['depDelay'].std() #Calculating standard dev  of departaure delay for flights arriving at ORD\n",
        "\n",
        "\n",
        "meanArrORD = flights[(flights['dest'] == 'ORD')]['arrDelay'].mean()# Calculating mean  of arrival delay for flights arriving at ORD\n",
        "stdArrORD = flights[(flights['dest'] == 'ORD')]['arrDelay'].std()# Calculating standard deviation  of arrival delay for flights arriving at ORD\n",
        "\n",
        "\n",
        "\n",
        "\n",
        "print(\"Depature Delay for flights leaving DTW\")\n",
        "print(\" Mean:    \", meanDepDTW)\n",
        "print(\" Std Dev: \", stdDepDTW)\n",
        "\n",
        "print(\"Arrival Delay for flights arriving in DTW\")\n",
        "print(\" Mean:    \", meanArrDTW)\n",
        "print(\" Std Dev: \", stdArrDTW)\n",
        "\n",
        "print(\"\\nDepature Delay for flights leaving MSP\")\n",
        "print(\" Mean:    \", meanDepMSP)\n",
        "print(\" Std Dev: \", stdDepMSP)\n",
        "\n",
        "print(\"Arrival Delay for flights arriving in MSP\")\n",
        "print(\" Mean:    \", meanArrMSP)\n",
        "print(\" Std Dev: \", stdArrMSP)\n",
        "\n",
        "print(\"\\nDepature Delay for flights leaving ORD\")\n",
        "print(\" Mean:    \", meanDepORD)\n",
        "print(\" Std Dev: \", stdDepORD)\n",
        "\n",
        "print(\"Arrival Delay for flights arriving in ORD\")\n",
        "print(\" Mean:    \", meanArrORD)\n",
        "print(\" Std Dev: \", stdArrORD)"
      ]
    },
    {
      "cell_type": "code",
      "source": [
        "flights['dateVal'] = pd.to_datetime(flights[['year', 'month', 'day']])\n",
        "flights['day_week_val'] = flights['dateVal'].dt.dayofweek # extracting day of the week\n",
        "mean = flights[flights['origin']=='ORD'].groupby('day_week_val')['depDelay'].mean() # caluculating mean\n",
        "days = ['Mon', 'Tue', 'Wed', 'Thu', 'Fri', 'Sat', 'Sun']\n",
        "\n",
        "plt.bar(days, mean,color ='skyblue')# plotting using bar plot\n",
        "plt.xlabel('Day of the week')\n",
        "plt.ylabel('Mean departure delay(minutes)')\n",
        "plt.title('Mean Departure Delay by Day of the Week')\n",
        "plt.grid()\n",
        "# Showing the plot\n",
        "plt.show()"
      ],
      "metadata": {
        "colab": {
          "base_uri": "https://localhost:8080/",
          "height": 472
        },
        "id": "_ly7mkzHpDRz",
        "outputId": "f794943a-a878-4d27-b726-d98f212cd839"
      },
      "id": "_ly7mkzHpDRz",
      "execution_count": null,
      "outputs": [
        {
          "output_type": "display_data",
          "data": {
            "text/plain": [
              "<Figure size 640x480 with 1 Axes>"
            ],
            "image/png": "[encoded data removed]"
          },
          "metadata": {}
        }
      ]
    },
    {
      "cell_type": "code",
      "execution_count": null,
      "id": "dc15eafd",
      "metadata": {
        "id": "dc15eafd",
        "colab": {
          "base_uri": "https://localhost:8080/",
          "height": 564
        },
        "outputId": "ae895670-d7d0-4a9f-ac8f-1f93b6f24b16"
      },
      "outputs": [
        {
          "output_type": "display_data",
          "data": {
            "text/plain": [
              "<Figure size 1000x600 with 1 Axes>"
            ],
            "image/png": "[encoded data removed]"
          },
          "metadata": {}
        }
      ],
      "source": [
        "# Create a bar plot with the mean dep. delay for each month.\n",
        "\n",
        "\n",
        "flights['month_val'] = flights['dateVal'].dt.month# Extract month from the 'dateVal' column\n",
        "mean_monthly_delay = flights[flights['origin']=='ORD'].groupby('month_val')['depDelay'].mean()# Calculating mean departure delay for flights departing from ORD by month\n",
        "months = ['Jan', 'Feb', 'Mar', 'Apr', 'May', 'Jun', 'Jul', 'Aug', 'Sep', 'Oct', 'Nov', 'Dec']# defining month labels\n",
        "plt.figure(figsize=(10, 6)) # setting figure size\n",
        "plt.bar(months, mean_monthly_delay, color='skyblue')# Plotting using bar plot\n",
        "plt.xlabel('Month of the year')\n",
        "plt.ylabel('Mean departure delay (minutes)')\n",
        "plt.title('Mean Departure Delay by Month of the Year')\n",
        "plt.grid()#adding grid\n",
        "plt.show()# Showing the plot\n",
        "\n"
      ]
    },
    {
      "cell_type": "code",
      "source": [
        "flights['dateVal_a'] = pd.to_datetime(flights[['year', 'month', 'day']])\n",
        "mean_departure_delay = flights.groupby('dateVal_a')['depDelay'].mean() # Grouping the flights data by date and calculating mean departure delay\n",
        "plt.figure(figsize=(12, 6)) # giving figure size\n",
        "plt.plot(mean_departure_delay, color='blue', marker='o', linestyle='-')\n",
        "plt.xlabel('year')\n",
        "plt.ylabel('Mean Departure Delay (minutes)')\n",
        "plt.title(' Departure Delay Over Time')\n",
        "plt.grid(True) # adding grid\n",
        "plt.show() #displaying plot\n"
      ],
      "metadata": {
        "colab": {
          "base_uri": "https://localhost:8080/",
          "height": 564
        },
        "id": "wTSNIFC4t31K",
        "outputId": "d4596d28-5b59-4dbf-d9ec-8173fa5f4424"
      },
      "id": "wTSNIFC4t31K",
      "execution_count": null,
      "outputs": [
        {
          "output_type": "display_data",
          "data": {
            "text/plain": [
              "<Figure size 1200x600 with 1 Axes>"
            ],
            "image/png": "[encoded data removed]"
          },
          "metadata": {}
        }
      ]
    },
    {
      "cell_type": "markdown",
      "source": [
        "During covid period the deparature delay of flights appears to be much higher compared to the remaining years."
      ],
      "metadata": {
        "id": "KlCkJXT7vlpF"
      },
      "id": "KlCkJXT7vlpF"
    },
    {
      "cell_type": "code",
      "execution_count": null,
      "id": "1b77f1f0",
      "metadata": {
        "id": "1b77f1f0",
        "colab": {
          "base_uri": "https://localhost:8080/"
        },
        "outputId": "002552b2-f4cd-4f07-f621-27cc433efdeb"
      },
      "outputs": [
        {
          "output_type": "stream",
          "name": "stdout",
          "text": [
            "  tailNum  mnDelay  num\n",
            "0  N727AN    659.0    2\n",
            "1  N733AR    626.5    4\n",
            "2  N785AA    538.0    1\n",
            "3  N786AA    505.0    1\n",
            "4  N7LRAA    411.5    2\n",
            "5  N724AN    351.0    1\n",
            "6  N206PS    287.0    1\n",
            "7  N178UA    276.0    1\n",
            "8  N7BDAA    270.0    1\n",
            "9  N7LVAA    259.0    2\n"
          ]
        }
      ],
      "source": [
        "average_delay_by_tail = flights.groupby('tailNum')['depDelay'].agg(['mean', 'count'])\n",
        "\n",
        "average_delay_by_tail.columns = ['mnDelay', 'num']\n",
        "mean_delay = average_delay_by_tail.sort_values(by='mnDelay', ascending=False) # Sorting the DataFrame by mean delay in descending order\n",
        "topDelayed = mean_delay.head(10)#  top 10 delay flights\n",
        "topDelayed.reset_index(inplace=True)\n",
        "print(topDelayed)\n"
      ]
    }
  ],
  "metadata": {
    "kernelspec": {
      "display_name": "Python 3 (ipykernel)",
      "language": "python",
      "name": "python3"
    },
    "language_info": {
      "codemirror_mode": {
        "name": "ipython",
        "version": 3
      },
      "file_extension": ".py",
      "mimetype": "text/x-python",
      "name": "python",
      "nbconvert_exporter": "python",
      "pygments_lexer": "ipython3",
      "version": "3.11.5"
    },
    "colab": {
      "provenance": []
    }
  },
  "nbformat": 4,
  "nbformat_minor": 5
}